{
  "nbformat": 4,
  "nbformat_minor": 0,
  "metadata": {
    "colab": {
      "provenance": [],
      "authorship_tag": "ABX9TyMHTJp/wVWqdp0uZzVOIAd6",
      "include_colab_link": true
    },
    "kernelspec": {
      "name": "python3",
      "display_name": "Python 3"
    },
    "language_info": {
      "name": "python"
    }
  },
  "cells": [
    {
      "cell_type": "markdown",
      "metadata": {
        "id": "view-in-github",
        "colab_type": "text"
      },
      "source": [
        "<a href=\"https://colab.research.google.com/github/Yashgabani845/ml/blob/main/Lab3_104.ipynb\" target=\"_parent\"><img src=\"https://colab.research.google.com/assets/colab-badge.svg\" alt=\"Open In Colab\"/></a>"
      ]
    },
    {
      "cell_type": "code",
      "execution_count": 21,
      "metadata": {
        "colab": {
          "base_uri": "https://localhost:8080/"
        },
        "id": "3lKYUys7g5kA",
        "outputId": "3af172d5-feae-4b64-dda1-b6a5d1dd75f5"
      },
      "outputs": [
        {
          "output_type": "stream",
          "name": "stdout",
          "text": [
            "Accuracy: 0.6666666666666666\n",
            "New Prediction: No\n"
          ]
        }
      ],
      "source": [
        "import pandas as pd\n",
        "from sklearn.model_selection import train_test_split\n",
        "from sklearn.naive_bayes import GaussianNB\n",
        "from sklearn.metrics import accuracy_score\n",
        "\n",
        "# Sample tennis play data\n",
        "data = {\n",
        "    'Outlook': ['Sunny', 'Sunny', 'Overcast', 'Rainy', 'Rainy', 'Rainy', 'Overcast', 'Sunny', 'Sunny', 'Rainy', 'Sunny', 'Overcast', 'Overcast', 'Rainy'],\n",
        "    'Temperature': ['Hot', 'Hot', 'Hot', 'Mild', 'Cool', 'Cool', 'Cool', 'Mild', 'Cool', 'Mild', 'Mild', 'Mild', 'Hot', 'Mild'],\n",
        "    'Play Tennis': ['No', 'No', 'Yes', 'Yes', 'Yes', 'No', 'Yes', 'No', 'Yes', 'Yes', 'Yes', 'Yes', 'Yes', 'No']\n",
        "}\n",
        "\n",
        "# Creating the DataFrame\n",
        "df = pd.DataFrame(data)\n",
        "\n",
        "# Convert categorical features to numerical using one-hot encoding\n",
        "df = pd.get_dummies(df, columns=['Outlook', 'Temperature'])\n",
        "\n",
        "# Separate features (X) and target (y)\n",
        "X = df.drop('Play Tennis', axis=1)\n",
        "y = df['Play Tennis']\n",
        "\n",
        "# Split data into training and testing sets\n",
        "X_train, X_test, y_train, y_test = train_test_split(X, y, test_size=0.2, random_state=42)\n",
        "\n",
        "# Create and train a Gaussian Naive Bayes classifier\n",
        "model = GaussianNB()\n",
        "model.fit(X_train, y_train)\n",
        "\n",
        "# Make predictions on the test set\n",
        "y_pred = model.predict(X_test)\n",
        "\n",
        "# Evaluate the model's accuracy\n",
        "accuracy = accuracy_score(y_test, y_pred)\n",
        "print(f\"Accuracy: {accuracy}\")\n",
        "\n",
        "# Example prediction (replace with your actual data)\n",
        "new_data = pd.DataFrame({\n",
        "    'Outlook_Overcast': [0], 'Outlook_Rainy': [0], 'Outlook_Sunny': [1],\n",
        "    'Temperature_Cool': [0], 'Temperature_Hot': [0], 'Temperature_Mild': [1]\n",
        "})\n",
        "new_prediction = model.predict(new_data)\n",
        "print(f\"New Prediction: {new_prediction[0]}\")\n"
      ]
    },
    {
      "cell_type": "code",
      "source": [
        "# Import required libraries\n",
        "import pandas as pd\n",
        "from sklearn.model_selection import train_test_split\n",
        "from sklearn.naive_bayes import GaussianNB\n",
        "from sklearn.metrics import accuracy_score\n",
        "from sklearn.preprocessing import LabelEncoder\n",
        "\n",
        "# Define the dataset\n",
        "data_task1 = {\n",
        "    'Outlook': ['R', 'R', 'O', 'R', 'S', 'O', 'O', 'R', 'O', 'S', 'R', 'O', 'O', 'S'],\n",
        "    'Temp': ['H', 'H', 'H', 'M', 'C', 'C', 'C', 'M', 'C', 'M', 'C', 'M', 'H', 'M'],\n",
        "    'Wind': ['F', 'T', 'F', 'F', 'F', 'T', 'T', 'F', 'F', 'F', 'T', 'T', 'F', 'T'],\n",
        "    'Humidity': [1, 2, 1, 1, 1, 0, 1, 1, 0, 2, 2, 0, 1, 1],\n",
        "    'Class': [0, 0, 1, 1, 1, 0, 1, 0, 1, 1, 0, 1, 1, 0]\n",
        "}\n",
        "df_task1 = pd.DataFrame(data_task1)\n",
        "\n",
        "df_task1_encoded = pd.get_dummies(df_task1.drop('Class', axis=1), drop_first=True)\n",
        "df_task1_encoded['Class'] = df_task1['Class']\n",
        "\n",
        "X_task1 = df_task1_encoded.drop('Class', axis=1)\n",
        "y_task1 = df_task1_encoded['Class']\n",
        "\n",
        "X_train_task1, X_test_task1, y_train_task1, y_test_task1 = train_test_split(X_task1, y_task1, test_size=0.15, random_state=42)\n",
        "\n",
        "model_task1 = GaussianNB()\n",
        "model_task1.fit(X_train_task1, y_train_task1)\n",
        "\n",
        "y_pred_task1 = model_task1.predict(X_test_task1)\n",
        "\n",
        "accuracy_task1 = accuracy_score(y_test_task1, y_pred_task1)\n",
        "print(f\"Task 1 Accuracy (One-Hot Encoding): {accuracy_task1}\")\n",
        "\n"
      ],
      "metadata": {
        "colab": {
          "base_uri": "https://localhost:8080/"
        },
        "id": "24jqg2LOulfT",
        "outputId": "80417abc-50df-411e-b147-8efff1c9b9be"
      },
      "execution_count": 22,
      "outputs": [
        {
          "output_type": "stream",
          "name": "stdout",
          "text": [
            "Task 1 Accuracy (One-Hot Encoding): 0.0\n"
          ]
        }
      ]
    },
    {
      "cell_type": "code",
      "source": [
        "# Load Wine dataset from sklearn\n",
        "from sklearn.datasets import load_wine\n",
        "\n",
        "# Load the wine dataset\n",
        "wine = load_wine()\n",
        "df_task2 = pd.DataFrame(wine.data, columns=wine.feature_names)\n",
        "df_task2['Class'] = wine.target\n",
        "\n",
        "le = LabelEncoder()\n",
        "\n",
        "y_task2 = df_task2['Class']\n",
        "X_task2 = df_task2.drop('Class', axis=1)\n",
        "\n",
        "X_train_task2, X_test_task2, y_train_task2, y_test_task2 = train_test_split(X_task2, y_task2, test_size=0.34, random_state=42)\n",
        "\n",
        "model_task2 = GaussianNB()\n",
        "model_task2.fit(X_train_task2, y_train_task2)\n",
        "\n",
        "y_pred_task2 = model_task2.predict(X_test_task2)\n"
      ],
      "metadata": {
        "id": "O4LhxPbXxTWG"
      },
      "execution_count": 24,
      "outputs": []
    },
    {
      "cell_type": "code",
      "source": [],
      "metadata": {
        "id": "Ue8946W_4gI9"
      },
      "execution_count": null,
      "outputs": []
    }
  ]
}