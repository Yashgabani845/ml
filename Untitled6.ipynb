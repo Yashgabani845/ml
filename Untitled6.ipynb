{
  "nbformat": 4,
  "nbformat_minor": 0,
  "metadata": {
    "colab": {
      "provenance": [],
      "authorship_tag": "ABX9TyPiAICOAFq1NWdI8GqPXb6m",
      "include_colab_link": true
    },
    "kernelspec": {
      "name": "python3",
      "display_name": "Python 3"
    },
    "language_info": {
      "name": "python"
    }
  },
  "cells": [
    {
      "cell_type": "markdown",
      "metadata": {
        "id": "view-in-github",
        "colab_type": "text"
      },
      "source": [
        "<a href=\"https://colab.research.google.com/github/Yashgabani845/ml/blob/main/Untitled6.ipynb\" target=\"_parent\"><img src=\"https://colab.research.google.com/assets/colab-badge.svg\" alt=\"Open In Colab\"/></a>"
      ]
    },
    {
      "cell_type": "code",
      "execution_count": 2,
      "metadata": {
        "colab": {
          "base_uri": "https://localhost:8080/"
        },
        "id": "UjFPhbIhOClh",
        "outputId": "bf3964bd-9a6f-4f9d-af27-6809c7223069"
      },
      "outputs": [
        {
          "output_type": "stream",
          "name": "stdout",
          "text": [
            "5  TYPE:  <class 'int'>\n",
            "Hello  TYPE:  <class 'str'>\n",
            "[1, 2, 3]  TYPE:  <class 'list'>\n"
          ]
        }
      ],
      "source": [
        "import numpy as np\n",
        "x=5\n",
        "print(x,\" TYPE: \",type(x))\n",
        "x=\"Hello\"\n",
        "print(x,\" TYPE: \",type(x))\n",
        "x=[1,2,3]\n",
        "print(x,\" TYPE: \",type(x))"
      ]
    },
    {
      "cell_type": "code",
      "source": [
        "alist = [1, 2, 3, 4, 5] # Define a python list. It looks\n",
        "narray = np.array([1, 2, 3, 4])\n",
        "narray"
      ],
      "metadata": {
        "colab": {
          "base_uri": "https://localhost:8080/"
        },
        "id": "t30lQ8SaOTtH",
        "outputId": "af466c98-d899-4d84-b8e4-bc0d2a63537f"
      },
      "execution_count": 6,
      "outputs": [
        {
          "output_type": "execute_result",
          "data": {
            "text/plain": [
              "array([1, 2, 3, 4])"
            ]
          },
          "metadata": {},
          "execution_count": 6
        }
      ]
    },
    {
      "cell_type": "code",
      "source": [
        "print(alist)\n",
        "print(narray)\n",
        "print(type(alist))\n",
        "print(type(narray))\n"
      ],
      "metadata": {
        "colab": {
          "base_uri": "https://localhost:8080/"
        },
        "id": "BHwuIDVLObpX",
        "outputId": "6ef5ddac-f70f-48f6-e792-5db70a6acc56"
      },
      "execution_count": 7,
      "outputs": [
        {
          "output_type": "stream",
          "name": "stdout",
          "text": [
            "[1, 2, 3, 4, 5]\n",
            "[1 2 3 4]\n",
            "<class 'list'>\n",
            "<class 'numpy.ndarray'>\n"
          ]
        }
      ]
    },
    {
      "cell_type": "code",
      "source": [
        "print(narray + narray)\n",
        "print(alist + alist)"
      ],
      "metadata": {
        "colab": {
          "base_uri": "https://localhost:8080/"
        },
        "id": "QA3rMiMWOraf",
        "outputId": "de2f4c7e-5c2a-4aab-e333-810e2bc55868"
      },
      "execution_count": 10,
      "outputs": [
        {
          "output_type": "stream",
          "name": "stdout",
          "text": [
            "[2 4 6 8]\n",
            "[1, 2, 3, 4, 5, 1, 2, 3, 4, 5]\n"
          ]
        }
      ]
    },
    {
      "cell_type": "markdown",
      "source": [
        "differnce betn these two is numpy ignore duplicate and array list doesn't same for multiplication"
      ],
      "metadata": {
        "id": "7QugX3LfO5pP"
      }
    },
    {
      "cell_type": "code",
      "source": [
        "\n",
        "import numpy as np\n",
        "\n",
        "# Simple array operations\n",
        "arr1 = [1, 2, 3, 4, 5]\n",
        "arr2 = [6, 7, 8, 9, 10]\n",
        "\n",
        "# Addition\n",
        "add_result = [x + y for x, y in zip(arr1, arr2)]\n",
        "print(\"Addition (simple array):\", add_result)\n",
        "\n",
        "# Subtraction\n",
        "sub_result = [x - y for x, y in zip(arr1, arr2)]\n",
        "print(\"Subtraction (simple array):\", sub_result)\n",
        "\n",
        "# Multiplication\n",
        "mul_result = [x * y for x, y in zip(arr1, arr2)]\n",
        "print(\"Multiplication (simple array):\", mul_result)\n",
        "\n",
        "# Division\n",
        "div_result = [x / y for x, y in zip(arr1, arr2)]\n",
        "print(\"Division (simple array):\", div_result)\n",
        "\n",
        "\n",
        "# NumPy array operations\n",
        "nparr1 = np.array([1, 2, 3, 4, 5])\n",
        "nparr2 = np.array([6, 7, 8, 9, 10])\n",
        "\n",
        "# Addition\n",
        "print(\"Addition (NumPy):\", nparr1 + nparr2)\n",
        "\n",
        "# Subtraction\n",
        "print(\"Subtraction (NumPy):\", nparr1 - nparr2)\n",
        "\n",
        "# Multiplication\n",
        "print(\"Multiplication (NumPy):\", nparr1 * nparr2)\n",
        "\n",
        "\n",
        "# Division\n",
        "print(\"Division (NumPy):\", nparr1 / nparr2)\n",
        "\n",
        "# Square root\n",
        "print(\"Square root (NumPy):\", np.sqrt(nparr1))\n",
        "\n",
        "# Dot product\n",
        "print(\"Dot product (NumPy):\", np.dot(nparr1, nparr2))\n",
        "\n",
        "# Element-wise multiplication (same as *)\n",
        "print(\"Element-wise multiplication (NumPy):\", nparr1 @ nparr2)\n",
        "\n",
        "\n",
        "# Sum\n",
        "print(\"Sum (NumPy):\", np.sum(nparr1))\n",
        "\n",
        "# Transpose (for 1D array, transpose doesn't change anything)\n",
        "print(\"Transpose (NumPy):\", nparr1.transpose())\n",
        "\n",
        "# Note: Some operations like 'sqrt' and '@' are not directly applicable or meaningful for standard Python lists.\n",
        "# For operations like sum and transpose, you would have to use the sum function and manually implement or use other libraries for transpose.\n"
      ],
      "metadata": {
        "colab": {
          "base_uri": "https://localhost:8080/"
        },
        "id": "_hngD7bMPGY4",
        "outputId": "0770f921-826c-48b1-b7d6-9ce613a6ba3f"
      },
      "execution_count": 13,
      "outputs": [
        {
          "output_type": "stream",
          "name": "stdout",
          "text": [
            "Addition (simple array): [7, 9, 11, 13, 15]\n",
            "Subtraction (simple array): [-5, -5, -5, -5, -5]\n",
            "Multiplication (simple array): [6, 14, 24, 36, 50]\n",
            "Division (simple array): [0.16666666666666666, 0.2857142857142857, 0.375, 0.4444444444444444, 0.5]\n",
            "Addition (NumPy): [ 7  9 11 13 15]\n",
            "Subtraction (NumPy): [-5 -5 -5 -5 -5]\n",
            "Multiplication (NumPy): [ 6 14 24 36 50]\n",
            "Division (NumPy): [0.16666667 0.28571429 0.375      0.44444444 0.5       ]\n",
            "Square root (NumPy): [1.         1.41421356 1.73205081 2.         2.23606798]\n",
            "Dot product (NumPy): 130\n",
            "Element-wise multiplication (NumPy): 130\n",
            "Sum (NumPy): 15\n",
            "Transpose (NumPy): [1 2 3 4 5]\n"
          ]
        }
      ]
    },
    {
      "cell_type": "code",
      "source": [
        "# prompt: give code for transpose multidimenytional array with before and after view\n",
        "\n",
        "import numpy as np\n",
        "\n",
        "# Example 2D array\n",
        "arr_2d = np.array([[1, 2, 3], [4, 5, 6]])\n",
        "\n",
        "print(\"Original array:\")\n",
        "print(arr_2d)\n",
        "\n",
        "# Transpose the array\n",
        "transposed_arr = arr_2d.transpose()\n",
        "\n",
        "print(\"\\nTransposed array:\")\n",
        "print(transposed_arr)\n",
        "\n",
        "\n",
        "# Example 3D array\n",
        "arr_3d = np.array([[[1, 2], [3, 4]], [[5, 6], [7, 8]]])\n",
        "\n",
        "print(\"\\nOriginal 3D array:\")\n",
        "print(arr_3d)\n",
        "\n",
        "# Transpose the 3D array\n",
        "transposed_arr_3d = arr_3d.transpose(1, 0, 2)  # Example transpose (swap axes 0 and 1)\n",
        "\n",
        "print(\"\\nTransposed 3D array:\")\n",
        "transposed_arr_3d"
      ],
      "metadata": {
        "colab": {
          "base_uri": "https://localhost:8080/"
        },
        "id": "SSVds9giRYp4",
        "outputId": "2564383a-55d9-46bc-bd4d-bdd12d9efc85"
      },
      "execution_count": 14,
      "outputs": [
        {
          "output_type": "stream",
          "name": "stdout",
          "text": [
            "Original array:\n",
            "[[1 2 3]\n",
            " [4 5 6]]\n",
            "\n",
            "Transposed array:\n",
            "[[1 4]\n",
            " [2 5]\n",
            " [3 6]]\n",
            "\n",
            "Original 3D array:\n",
            "[[[1 2]\n",
            "  [3 4]]\n",
            "\n",
            " [[5 6]\n",
            "  [7 8]]]\n",
            "\n",
            "Transposed 3D array:\n"
          ]
        },
        {
          "output_type": "execute_result",
          "data": {
            "text/plain": [
              "array([[[1, 2],\n",
              "        [5, 6]],\n",
              "\n",
              "       [[3, 4],\n",
              "        [7, 8]]])"
            ]
          },
          "metadata": {},
          "execution_count": 14
        }
      ]
    },
    {
      "cell_type": "code",
      "source": [
        "npmatrix1 = np.array([narray, narray, narray])\n",
        "npmatrix2 = np.array([alist, alist, alist])\n",
        "npmatrix3 = np.array([narray, [1, 1, 1, 1], narray])\n",
        "print(npmatrix1)\n",
        "print(npmatrix2)\n",
        "print(npmatrix3)"
      ],
      "metadata": {
        "colab": {
          "base_uri": "https://localhost:8080/"
        },
        "id": "SsAq5KfTSV2v",
        "outputId": "6c7c4092-7d62-4886-f33c-adf9dd698469"
      },
      "execution_count": 17,
      "outputs": [
        {
          "output_type": "stream",
          "name": "stdout",
          "text": [
            "[[1 2 3 4]\n",
            " [1 2 3 4]\n",
            " [1 2 3 4]]\n",
            "[[1 2 3 4 5]\n",
            " [1 2 3 4 5]\n",
            " [1 2 3 4 5]]\n",
            "[[1 2 3 4]\n",
            " [1 1 1 1]\n",
            " [1 2 3 4]]\n"
          ]
        }
      ]
    },
    {
      "cell_type": "code",
      "source": [
        "badmatrix = np.array([[1,2 ], [3, 4], [6,7, 8]],dtype=object)\n",
        "print(badmatrix) # Print the malformed matrix\n",
        "print(badmatrix * 2)"
      ],
      "metadata": {
        "colab": {
          "base_uri": "https://localhost:8080/"
        },
        "id": "z7HL_KCcSquP",
        "outputId": "f63b1835-435e-4f6d-bfff-09b94d67ad68"
      },
      "execution_count": 22,
      "outputs": [
        {
          "output_type": "stream",
          "name": "stdout",
          "text": [
            "[list([1, 2]) list([3, 4]) list([6, 7, 8])]\n",
            "[list([1, 2, 1, 2]) list([3, 4, 3, 4]) list([6, 7, 8, 6, 7, 8])]\n"
          ]
        }
      ]
    },
    {
      "cell_type": "markdown",
      "source": [
        "# **Excercise 4**"
      ],
      "metadata": {
        "id": "7C2U-ZkOZla-"
      }
    },
    {
      "cell_type": "code",
      "source": [
        "\n",
        "import numpy as np\n",
        "import pandas as pd\n",
        "\n",
        "array1 = np.random.randint(1,10,size=(4, 5))\n",
        "array2 = np.random.randint(1,10,size=(5, 4))\n",
        "\n",
        "print(\"Array 1:\\n\", array1)\n",
        "print(\"\\nArray 2:\\n\", array2)\n",
        "\n",
        "matrix_product = np.dot(array1, array2)\n",
        "print(\"\\nMatrix Product:\\n\", matrix_product)\n",
        "\n",
        "elementwise_product = array1 * array1\n",
        "print(\"\\nElement-wise Product:\\n\", elementwise_product)\n",
        "\n",
        "# elementwise_product2 = array1*array2\n",
        "# print(\"\\nElement-wise Product:\\n\", elementwise_product2)\n",
        "\n",
        "mean_array1 = np.mean(array1)\n",
        "median_array1 = np.median(array1)\n",
        "print(\"\\nMean of Array 1:\", mean_array1)\n",
        "print(\"Median of Array 1:\", median_array1)\n",
        "\n",
        "transpose_array1 = array1.T\n",
        "print(\"\\nTranspose of Array 1:\\n\", transpose_array1)\n",
        "\n",
        "square_matrix = np.random.rand(4, 4)\n",
        "determinant = np.linalg.det(square_matrix)\n",
        "print(\"\\nSquare Matrix:\\n\", square_matrix)\n",
        "print(\"\\nDeterminant of the Square Matrix:\", determinant)\n",
        "\n",
        "\n",
        "second_column = array1[:, 1]\n",
        "print(\"\\nSecond Column of Array 1:\\n\", second_column)\n",
        "\n",
        "\n",
        "try:\n",
        "    mtcars = pd.read_csv('mtcars.csv')\n",
        "    # Identify numeric columns\n",
        "    numeric_cols = mtcars.select_dtypes(include=np.number).columns\n",
        "    # Mean-center the numeric columns\n",
        "    mtcars[numeric_cols] = mtcars[numeric_cols] - mtcars[numeric_cols].mean()\n",
        "    print(\"\\nMean-centered mtcars dataset:\\n\", mtcars)\n",
        "\n",
        "except FileNotFoundError:\n",
        "    print(\"Error: 'mtcars.csv' not found. Please upload the file or provide the correct path.\")"
      ],
      "metadata": {
        "colab": {
          "base_uri": "https://localhost:8080/"
        },
        "id": "rebOuv2DTq24",
        "outputId": "cb5a517a-af4f-4518-bdba-fc6c51c97986"
      },
      "execution_count": 1,
      "outputs": [
        {
          "output_type": "stream",
          "name": "stdout",
          "text": [
            "Array 1:\n",
            " [[7 4 1 9 3]\n",
            " [7 3 7 4 8]\n",
            " [6 2 7 5 6]\n",
            " [9 5 8 4 3]]\n",
            "\n",
            "Array 2:\n",
            " [[5 1 2 3]\n",
            " [2 8 6 8]\n",
            " [5 8 2 7]\n",
            " [8 5 3 5]\n",
            " [3 7 3 3]]\n",
            "\n",
            "Matrix Product:\n",
            " [[129 113  76 114]\n",
            " [132 163  82 138]\n",
            " [127 145  71 126]\n",
            " [136 154  85 152]]\n",
            "\n",
            "Element-wise Product:\n",
            " [[49 16  1 81  9]\n",
            " [49  9 49 16 64]\n",
            " [36  4 49 25 36]\n",
            " [81 25 64 16  9]]\n",
            "\n",
            "Mean of Array 1: 5.4\n",
            "Median of Array 1: 5.5\n",
            "\n",
            "Transpose of Array 1:\n",
            " [[7 7 6 9]\n",
            " [4 3 2 5]\n",
            " [1 7 7 8]\n",
            " [9 4 5 4]\n",
            " [3 8 6 3]]\n",
            "\n",
            "Square Matrix:\n",
            " [[0.08722569 0.19402444 0.82099139 0.47539733]\n",
            " [0.88469407 0.13564982 0.31532038 0.04905313]\n",
            " [0.71256728 0.71848062 0.05872412 0.76709524]\n",
            " [0.24565894 0.74777599 0.69855461 0.34757749]]\n",
            "\n",
            "Determinant of the Square Matrix: -0.35009049412377047\n",
            "\n",
            "Second Column of Array 1:\n",
            " [4 3 2 5]\n",
            "\n",
            "Mean-centered mtcars dataset:\n",
            "                   model        mpg     cyl        disp        hp      drat  \\\n",
            "0             Mazda RX4   0.909375 -0.1875  -70.721875  -36.6875  0.303437   \n",
            "1         Mazda RX4 Wag   0.909375 -0.1875  -70.721875  -36.6875  0.303437   \n",
            "2            Datsun 710   2.709375 -2.1875 -122.721875  -53.6875  0.253437   \n",
            "3        Hornet 4 Drive   1.309375 -0.1875   27.278125  -36.6875 -0.516563   \n",
            "4     Hornet Sportabout  -1.390625  1.8125  129.278125   28.3125 -0.446563   \n",
            "5               Valiant  -1.990625 -0.1875   -5.721875  -41.6875 -0.836563   \n",
            "6            Duster 360  -5.790625  1.8125  129.278125   98.3125 -0.386563   \n",
            "7             Merc 240D   4.309375 -2.1875  -84.021875  -84.6875  0.093437   \n",
            "8              Merc 230   2.709375 -2.1875  -89.921875  -51.6875  0.323437   \n",
            "9              Merc 280  -0.890625 -0.1875  -63.121875  -23.6875  0.323437   \n",
            "10            Merc 280C  -2.290625 -0.1875  -63.121875  -23.6875  0.323437   \n",
            "11           Merc 450SE  -3.690625  1.8125   45.078125   33.3125 -0.526563   \n",
            "12           Merc 450SL  -2.790625  1.8125   45.078125   33.3125 -0.526563   \n",
            "13          Merc 450SLC  -4.890625  1.8125   45.078125   33.3125 -0.526563   \n",
            "14   Cadillac Fleetwood  -9.690625  1.8125  241.278125   58.3125 -0.666562   \n",
            "15  Lincoln Continental  -9.690625  1.8125  229.278125   68.3125 -0.596563   \n",
            "16    Chrysler Imperial  -5.390625  1.8125  209.278125   83.3125 -0.366563   \n",
            "17             Fiat 128  12.309375 -2.1875 -152.021875  -80.6875  0.483437   \n",
            "18          Honda Civic  10.309375 -2.1875 -155.021875  -94.6875  1.333437   \n",
            "19       Toyota Corolla  13.809375 -2.1875 -159.621875  -81.6875  0.623437   \n",
            "20        Toyota Corona   1.409375 -2.1875 -110.621875  -49.6875  0.103438   \n",
            "21     Dodge Challenger  -4.590625  1.8125   87.278125    3.3125 -0.836563   \n",
            "22          AMC Javelin  -4.890625  1.8125   73.278125    3.3125 -0.446563   \n",
            "23           Camaro Z28  -6.790625  1.8125  119.278125   98.3125  0.133437   \n",
            "24     Pontiac Firebird  -0.890625  1.8125  169.278125   28.3125 -0.516563   \n",
            "25            Fiat X1-9   7.209375 -2.1875 -151.721875  -80.6875  0.483437   \n",
            "26        Porsche 914-2   5.909375 -2.1875 -110.421875  -55.6875  0.833437   \n",
            "27         Lotus Europa  10.309375 -2.1875 -135.621875  -33.6875  0.173437   \n",
            "28       Ford Pantera L  -4.290625  1.8125  120.278125  117.3125  0.623437   \n",
            "29         Ferrari Dino  -0.390625 -0.1875  -85.721875   28.3125  0.023438   \n",
            "30        Maserati Bora  -5.090625  1.8125   70.278125  188.3125 -0.056563   \n",
            "31           Volvo 142E   1.309375 -2.1875 -109.721875  -37.6875  0.513438   \n",
            "\n",
            "         wt     qsec      vs       am    gear    carb  \n",
            "0  -0.59725 -1.38875 -0.4375  0.59375  0.3125  1.1875  \n",
            "1  -0.34225 -0.82875 -0.4375  0.59375  0.3125  1.1875  \n",
            "2  -0.89725  0.76125  0.5625  0.59375  0.3125 -1.8125  \n",
            "3  -0.00225  1.59125  0.5625 -0.40625 -0.6875 -1.8125  \n",
            "4   0.22275 -0.82875 -0.4375 -0.40625 -0.6875 -0.8125  \n",
            "5   0.24275  2.37125  0.5625 -0.40625 -0.6875 -1.8125  \n",
            "6   0.35275 -2.00875 -0.4375 -0.40625 -0.6875  1.1875  \n",
            "7  -0.02725  2.15125  0.5625 -0.40625  0.3125 -0.8125  \n",
            "8  -0.06725  5.05125  0.5625 -0.40625  0.3125 -0.8125  \n",
            "9   0.22275  0.45125  0.5625 -0.40625  0.3125  1.1875  \n",
            "10  0.22275  1.05125  0.5625 -0.40625  0.3125  1.1875  \n",
            "11  0.85275 -0.44875 -0.4375 -0.40625 -0.6875  0.1875  \n",
            "12  0.51275 -0.24875 -0.4375 -0.40625 -0.6875  0.1875  \n",
            "13  0.56275  0.15125 -0.4375 -0.40625 -0.6875  0.1875  \n",
            "14  2.03275  0.13125 -0.4375 -0.40625 -0.6875  1.1875  \n",
            "15  2.20675 -0.02875 -0.4375 -0.40625 -0.6875  1.1875  \n",
            "16  2.12775 -0.42875 -0.4375 -0.40625 -0.6875  1.1875  \n",
            "17 -1.01725  1.62125  0.5625  0.59375  0.3125 -1.8125  \n",
            "18 -1.60225  0.67125  0.5625  0.59375  0.3125 -0.8125  \n",
            "19 -1.38225  2.05125  0.5625  0.59375  0.3125 -1.8125  \n",
            "20 -0.75225  2.16125  0.5625 -0.40625 -0.6875 -1.8125  \n",
            "21  0.30275 -0.97875 -0.4375 -0.40625 -0.6875 -0.8125  \n",
            "22  0.21775 -0.54875 -0.4375 -0.40625 -0.6875 -0.8125  \n",
            "23  0.62275 -2.43875 -0.4375 -0.40625 -0.6875  1.1875  \n",
            "24  0.62775 -0.79875 -0.4375 -0.40625 -0.6875 -0.8125  \n",
            "25 -1.28225  1.05125  0.5625  0.59375  0.3125 -1.8125  \n",
            "26 -1.07725 -1.14875 -0.4375  0.59375  1.3125 -0.8125  \n",
            "27 -1.70425 -0.94875  0.5625  0.59375  1.3125 -0.8125  \n",
            "28 -0.04725 -3.34875 -0.4375  0.59375  1.3125  1.1875  \n",
            "29 -0.44725 -2.34875 -0.4375  0.59375  1.3125  3.1875  \n",
            "30  0.35275 -3.24875 -0.4375  0.59375  1.3125  5.1875  \n",
            "31 -0.43725  0.75125  0.5625  0.59375  0.3125 -0.8125  \n"
          ]
        }
      ]
    },
    {
      "cell_type": "code",
      "source": [
        "from google.colab import drive\n",
        "drive.mount('/content/drive')"
      ],
      "metadata": {
        "colab": {
          "base_uri": "https://localhost:8080/"
        },
        "id": "dLcGe66VYA6l",
        "outputId": "22ed43b6-13b3-4da6-a837-daf98dfef720"
      },
      "execution_count": 3,
      "outputs": [
        {
          "output_type": "stream",
          "name": "stdout",
          "text": [
            "Drive already mounted at /content/drive; to attempt to forcibly remount, call drive.mount(\"/content/drive\", force_remount=True).\n"
          ]
        }
      ]
    },
    {
      "cell_type": "code",
      "source": [
        "# prompt: Draw Scatter Plot between SepalLengthCm and SepalWidthCm for “Iris.csv” file with\n",
        "# proper labeling.\n",
        "\n",
        "import pandas as pd\n",
        "import matplotlib.pyplot as plt\n",
        "\n",
        "# Load the Iris dataset\n",
        "try:\n",
        "    iris_data = pd.read_csv('Iris.csv')\n",
        "\n",
        "    # Create the scatter plot\n",
        "    plt.figure(figsize=(8, 6))\n",
        "    plt.scatter(iris_data['SepalLengthCm'], iris_data['SepalWidthCm'])\n",
        "    plt.xlabel('Sepal Length (cm)')\n",
        "    plt.ylabel('Sepal Width (cm)')\n",
        "    plt.title('Scatter Plot of Sepal Length vs. Sepal Width')\n",
        "    plt.grid(True)\n",
        "    plt.show()\n",
        "\n",
        "except FileNotFoundError:\n",
        "    print(\"Error: 'Iris.csv' not found. Please upload the file or provide the correct path.\")"
      ],
      "metadata": {
        "colab": {
          "base_uri": "https://localhost:8080/",
          "height": 564
        },
        "id": "_vzSIfYjZD2n",
        "outputId": "a2342f65-1297-4621-daa2-84ca230e3dc9"
      },
      "execution_count": 4,
      "outputs": [
        {
          "output_type": "display_data",
          "data": {
            "text/plain": [
              "<Figure size 800x600 with 1 Axes>"
            ],
            "image/png": "[encoded data removed]"
          },
          "metadata": {}
        }
      ]
    },
    {
      "cell_type": "code",
      "source": [
        "\n",
        "import matplotlib.pyplot as plt\n",
        "try:\n",
        "    iris_data = pd.read_csv('Iris.csv')\n",
        "    plt.figure(figsize=(10, 6))\n",
        "    plt.hist(iris_data['SepalLengthCm'], bins=10,range=(4.5, 7.0), edgecolor='black')  # Adjust bins as needed\n",
        "    plt.xlabel('Sepal Length (cm)')\n",
        "    plt.ylabel('Frequency')\n",
        "    plt.title('Histogram of Sepal Length')\n",
        "    plt.grid(True)\n",
        "    plt.show()\n",
        "except FileNotFoundError:\n",
        "    print(\"Error: 'Iris.csv' not found. Please upload the file or provide the correct path.\")"
      ],
      "metadata": {
        "colab": {
          "base_uri": "https://localhost:8080/",
          "height": 564
        },
        "id": "5gQQ1k8kaOLF",
        "outputId": "13d6c929-dadc-4d39-e785-334bc92006d8"
      },
      "execution_count": 22,
      "outputs": [
        {
          "output_type": "display_data",
          "data": {
            "text/plain": [
              "<Figure size 1000x600 with 1 Axes>"
            ],
            "image/png": "[encoded data removed]"
          },
          "metadata": {}
        }
      ]
    },
    {
      "cell_type": "code",
      "source": [
        "\n",
        "try:\n",
        "    iris_data = pd.read_csv('Iris.csv')\n",
        "    plt.figure(figsize=(8, 6))\n",
        "    iris_data['Species'].value_counts().plot(kind='bar')\n",
        "    plt.xlabel('Species')\n",
        "    plt.ylabel('Count')\n",
        "    plt.title('Bar Chart of Species')\n",
        "    plt.show()\n",
        "except FileNotFoundError:\n",
        "    print(\"Error: 'Iris.csv' not found. Please upload the file or provide the correct path.\")"
      ],
      "metadata": {
        "colab": {
          "base_uri": "https://localhost:8080/",
          "height": 643
        },
        "id": "uIcYjVB8agGX",
        "outputId": "b4a7741b-b2d8-44ce-e4bd-8c0143d3a8f2"
      },
      "execution_count": 6,
      "outputs": [
        {
          "output_type": "display_data",
          "data": {
            "text/plain": [
              "<Figure size 800x600 with 1 Axes>"
            ],
            "image/png": "[encoded data removed]"
          },
          "metadata": {}
        }
      ]
    },
    {
      "cell_type": "code",
      "source": [
        "# prompt: Count total null values for each column in this dataset.\n",
        "\n",
        "import pandas as pd\n",
        "\n",
        "try:\n",
        "    iris_data = pd.read_csv('Iris.csv')\n",
        "    null_counts = iris_data.isnull().sum()\n",
        "    print(null_counts)\n",
        "except FileNotFoundError:\n",
        "    print(\"Error: 'Iris.csv' not found. Please upload the file or provide the correct path.\")"
      ],
      "metadata": {
        "colab": {
          "base_uri": "https://localhost:8080/"
        },
        "id": "SUAFb40Ga6in",
        "outputId": "d0e0d2de-ba12-451e-cc8c-4f1ad1da6209"
      },
      "execution_count": 7,
      "outputs": [
        {
          "output_type": "stream",
          "name": "stdout",
          "text": [
            "Id               0\n",
            "SepalLengthCm    0\n",
            "SepalWidthCm     0\n",
            "PetalLengthCm    0\n",
            "PetalWidthCm     0\n",
            "Species          0\n",
            "dtype: int64\n"
          ]
        }
      ]
    },
    {
      "cell_type": "code",
      "source": [
        "\n",
        "import pandas as pd\n",
        "\n",
        "try:\n",
        "    iris_data = pd.read_csv('Iris.csv')\n",
        "    print(iris_data['SepalLengthCm'].head(10))\n",
        "\n",
        "    print(iris_data.iloc[4:])\n",
        "\n",
        "except FileNotFoundError:\n",
        "    print(\"Error: 'Iris.csv' not found. Please upload the file or provide the correct path.\")"
      ],
      "metadata": {
        "colab": {
          "base_uri": "https://localhost:8080/"
        },
        "id": "SYmrqIyvbAtQ",
        "outputId": "6f83ecf4-bcda-4cf4-e62b-54629e04cc5a"
      },
      "execution_count": 9,
      "outputs": [
        {
          "output_type": "stream",
          "name": "stdout",
          "text": [
            "0    5.1\n",
            "1    4.9\n",
            "2    4.7\n",
            "3    4.6\n",
            "4    5.0\n",
            "5    5.4\n",
            "6    4.6\n",
            "7    5.0\n",
            "8    4.4\n",
            "9    4.9\n",
            "Name: SepalLengthCm, dtype: float64\n",
            "      Id  SepalLengthCm  SepalWidthCm  PetalLengthCm  PetalWidthCm  \\\n",
            "4      5            5.0           3.6            1.4           0.2   \n",
            "5      6            5.4           3.9            1.7           0.4   \n",
            "6      7            4.6           3.4            1.4           0.3   \n",
            "7      8            5.0           3.4            1.5           0.2   \n",
            "8      9            4.4           2.9            1.4           0.2   \n",
            "..   ...            ...           ...            ...           ...   \n",
            "145  146            6.7           3.0            5.2           2.3   \n",
            "146  147            6.3           2.5            5.0           1.9   \n",
            "147  148            6.5           3.0            5.2           2.0   \n",
            "148  149            6.2           3.4            5.4           2.3   \n",
            "149  150            5.9           3.0            5.1           1.8   \n",
            "\n",
            "            Species  \n",
            "4       Iris-setosa  \n",
            "5       Iris-setosa  \n",
            "6       Iris-setosa  \n",
            "7       Iris-setosa  \n",
            "8       Iris-setosa  \n",
            "..              ...  \n",
            "145  Iris-virginica  \n",
            "146  Iris-virginica  \n",
            "147  Iris-virginica  \n",
            "148  Iris-virginica  \n",
            "149  Iris-virginica  \n",
            "\n",
            "[146 rows x 6 columns]\n"
          ]
        }
      ]
    },
    {
      "cell_type": "markdown",
      "source": [
        "NumPy arrays offer several advantages over Python lists when performing numerical computations and data analysis, especially in scenarios involving large datasets:\n",
        "\n",
        "1. **Performance:** NumPy arrays are implemented in C and optimized for numerical operations. This results in significantly faster execution compared to Python lists, especially for element-wise operations and mathematical functions.\n",
        "\n",
        "2. **Memory Efficiency:** NumPy arrays store elements of the same data type contiguously in memory. This efficient memory layout allows for faster access and manipulation of elements. Python lists, on the other hand, store objects of various types, which involves additional overhead.\n",
        "\n",
        "3. **Vectorized Operations:** NumPy supports vectorized operations, meaning you can perform operations on entire arrays without explicit loops.  This significantly improves code readability and execution speed.  For example, `narray + narray` in the code directly adds corresponding elements of the two arrays. This is equivalent to looping over the elements in Python lists but far faster in NumPy.\n",
        "\n",
        "4. **Broadcasting:** NumPy's broadcasting rules allow for arithmetic operations between arrays of different shapes under certain conditions. This makes it convenient to perform calculations involving arrays of differing dimensions without having to manually reshape them.\n",
        "\n",
        "5. **Specialized Functions:** NumPy provides a vast collection of mathematical functions (like `sqrt`, `dot`, `sum`, `mean`, `median` etc. in your example) that operate efficiently on arrays.  You would have to write these functions yourself (or find them in other libraries) if using lists.\n",
        "\n",
        "6. **Data Structures for Multi-Dimensional Data:** NumPy excels at handling multi-dimensional arrays (matrices and tensors). Operations like transposition and matrix multiplication are readily available and efficient.  Lists can represent multi-dimensional data, but operations on them are less convenient and more computationally expensive.\n",
        "\n",
        "\n",
        "In your provided code:\n",
        "\n",
        "* **`narray + narray` vs. `alist + alist`** demonstrates the key difference. NumPy adds corresponding elements, while Python lists concatenate the two lists. The same behavior is observed with multiplication.\n",
        "\n",
        "* The code then shows that basic arithmetic operations can be done on standard Python lists using loops, but NumPy offers a far more efficient, cleaner, and concise way to achieve the same.\n",
        "\n",
        "* Functions like `np.sqrt`, `np.dot`, and matrix manipulations are readily available in NumPy but would require custom implementations with standard Python lists.\n",
        "\n",
        "\n",
        "In summary, although Python lists are versatile, NumPy arrays are specifically designed for numerical operations and offer substantial performance, memory, and functionality advantages. Use NumPy arrays whenever dealing with numerical data, mathematical computations, or when performance is critical."
      ],
      "metadata": {
        "id": "_7-5ghGXbkzP"
      }
    }
  ]
}