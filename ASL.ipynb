{
  "cells": [
    {
      "cell_type": "markdown",
      "metadata": {
        "id": "view-in-github",
        "colab_type": "text"
      },
      "source": [
        "<a href=\"https://colab.research.google.com/github/Yashgabani845/ml/blob/main/ASL.ipynb\" target=\"_parent\"><img src=\"https://colab.research.google.com/assets/colab-badge.svg\" alt=\"Open In Colab\"/></a>"
      ]
    },
    {
      "cell_type": "code",
      "execution_count": null,
      "metadata": {
        "id": "8hgYdT9RQpSH"
      },
      "outputs": [],
      "source": []
    },
    {
      "cell_type": "code",
      "execution_count": null,
      "metadata": {
        "colab": {
          "base_uri": "https://localhost:8080/"
        },
        "id": "dux1RH44Qx61",
        "outputId": "334fd202-bfad-4156-85a4-ce90ed281ed6"
      },
      "outputs": [
        {
          "output_type": "stream",
          "name": "stdout",
          "text": [
            "Mounted at /content/drive\n"
          ]
        }
      ],
      "source": [
        "from google.colab import drive\n",
        "drive.mount('/content/drive')"
      ]
    },
    {
      "cell_type": "code",
      "execution_count": null,
      "metadata": {
        "colab": {
          "base_uri": "https://localhost:8080/"
        },
        "id": "R_1D_oLLSjIN",
        "outputId": "3ca8f367-08e6-45a4-a0e9-e34e5dbf4625"
      },
      "outputs": [
        {
          "output_type": "execute_result",
          "data": {
            "text/plain": [
              "['Getting started.pdf',\n",
              " 'guj.jpeg',\n",
              " '12th.jpeg',\n",
              " 'school lc.jpeg',\n",
              " 'ViewGeneratedDocs.pdf',\n",
              " 'school lc.pdf',\n",
              " '12th.pdf',\n",
              " 'guj.pdf',\n",
              " 'Classroom',\n",
              " 'Session2_Assignment.gdoc',\n",
              " 'Session4_find_command.gdoc',\n",
              " '16694875454677156463441062557371.jpg',\n",
              " '16694876457322312295232508056318.jpg',\n",
              " 'Simple Filters (3).gdoc',\n",
              " 'Simple Filters (2).gdoc',\n",
              " 'Simple Filters (1).gdoc',\n",
              " 'Simple Filters.gdoc',\n",
              " 'BEE_LECTURE_TRANSFORMER CONT...gdoc',\n",
              " 'Filters Using Regular Expressions-grep and sed.gdoc',\n",
              " 'BEE (1).gdoc',\n",
              " 'BEE.gdoc',\n",
              " 'phy',\n",
              " 'BTech_Sem II_CE_cultural_week_v1.xlsx',\n",
              " 'iLovePDF',\n",
              " '22-11-2023_0302-0330.gdoc',\n",
              " 'skrjgnerjg.gdoc',\n",
              " 'LAB_06.pdf',\n",
              " 'Untitled document (8).gdoc',\n",
              " 'GSOC.gdoc',\n",
              " 'Online_Stationery_Shop',\n",
              " 'TechTitans-main',\n",
              " 'Extension-hub',\n",
              " 'GSOC Roadmap.gdoc',\n",
              " 'Untitled document (7).gdoc',\n",
              " 'Untitled document (6).gdoc',\n",
              " 'rutu_gabani_resume.gdoc',\n",
              " 'Untitled document (5).gdoc',\n",
              " 'LAB01 (1).gdoc',\n",
              " 'LAB01.gdoc',\n",
              " 'Untitled document (4).gdoc',\n",
              " 'lab2.gdoc',\n",
              " 'GSSOC2024 x Xyz.docx.pdf',\n",
              " 'Untitled document (3).gdoc',\n",
              " 'LAB_07.gdoc',\n",
              " 'Untitled document (2).gdoc',\n",
              " 'Tenserflow.gdoc',\n",
              " 'Untitled document (1).gdoc',\n",
              " 'Lab_08.gdoc',\n",
              " 'NLP tutorial.gdoc',\n",
              " 'Gabani Yash_Cert_Top Contributor_GSSoC2024.png',\n",
              " 'Yash_Gabani_CV (3).pdf',\n",
              " 'yash_gabani_cv (2)-1 (1).pdf',\n",
              " 'Nextjs.gdoc',\n",
              " 'Angular docs.gdoc',\n",
              " 'Resume.gdoc',\n",
              " 'GSOC orgs.gdoc',\n",
              " 'DATASET.rar',\n",
              " 'Untitled document.gdoc',\n",
              " 'Colab Notebooks',\n",
              " 'Project Report.gdoc',\n",
              " 'IMG-20241121-WA0003.jpg',\n",
              " 'IMG_20241121_134739_983.jpg',\n",
              " 'IMG_20241121_134739_272.jpg',\n",
              " 'IMG_20241121_134738_429.jpg',\n",
              " 'IMG_20241121_134722_132.jpg',\n",
              " 'IMG_20241121_134720_566.jpg',\n",
              " 'IMG_20241121_134711_825.jpg',\n",
              " 'IMG_20241117_120918_373.jpg',\n",
              " 'IMG_20241117_120818_485.jpg',\n",
              " 'IMG_20241117_120803_655.jpg',\n",
              " 'IMG_20241117_120803_009.jpg',\n",
              " 'IMG_20241117_120802_315.jpg',\n",
              " 'IMG_20241117_120801_501.jpg',\n",
              " 'IMG_20241117_120747_288.jpg',\n",
              " 'IMG_20241117_120745_378.jpg',\n",
              " 'IMG_20241117_120718_862.jpg',\n",
              " 'IMG_20241117_120714_545.jpg',\n",
              " 'IMG_20241117_120646_079.jpg',\n",
              " 'IMG_20241117_120546_861.jpg',\n",
              " 'IMG_20241117_120616_246.jpg',\n",
              " 'IMG_20241117_120551_443.jpg',\n",
              " 'IMG_20241117_120644_379.jpg',\n",
              " 'IMG_20241117_120544_202.jpg',\n",
              " 'IMG_20241117_120459_841.jpg',\n",
              " 'IMG_20241117_120517_771.jpg',\n",
              " 'IMG_20241117_091639_482.jpg',\n",
              " 'IMG_20241117_091638_867.jpg',\n",
              " 'IMG_20241117_091637_172.jpg',\n",
              " 'IMG_20241117_091637_946.jpg',\n",
              " 'IMG_20241117_091502_374.jpg',\n",
              " 'IMG_20241117_091502_821.jpg',\n",
              " 'IMG_20241117_091501_005.jpg',\n",
              " 'IMG_20241117_091501_798.jpg',\n",
              " 'IMG_20241117_091500_681.jpg',\n",
              " 'IMG_20241117_091337_972.jpg',\n",
              " 'Webrtc guide.gdoc',\n",
              " 'Qrcode.zip',\n",
              " 'Wsd_Lab_1.gdoc',\n",
              " 'Untitled site.gsite',\n",
              " 'Yash_GabaniCV (2).pdf',\n",
              " 'Worksheet.gsheet',\n",
              " 'Untitled0.ipynb',\n",
              " 'asl.zip']"
            ]
          },
          "metadata": {},
          "execution_count": 2
        }
      ],
      "source": [
        "import os\n",
        "# List the contents of the Google Drive root folder\n",
        "os.listdir('/content/drive/MyDrive/')\n"
      ]
    },
    {
      "cell_type": "code",
      "execution_count": null,
      "metadata": {
        "id": "zspP6Fh_SsR6"
      },
      "outputs": [],
      "source": [
        "import zipfile\n",
        "zip_path = '/content/drive/MyDrive/asl.zip'\n",
        "\n",
        "# Unzip the file\n",
        "with zipfile.ZipFile(zip_path, 'r') as zip_ref:\n",
        "    zip_ref.extractall('/content/asl')\n",
        "\n"
      ]
    },
    {
      "cell_type": "markdown",
      "metadata": {
        "id": "v63m0B4nTKNB"
      },
      "source": [
        "Start coding of ASL\n"
      ]
    },
    {
      "cell_type": "code",
      "execution_count": null,
      "metadata": {
        "id": "yKb2cK39TMVe"
      },
      "outputs": [],
      "source": [
        "import tensorflow as tf\n",
        "from tensorflow.keras.models import Sequential\n",
        "from tensorflow.keras.layers import Conv2D, MaxPooling2D, Flatten, Dense, Dropout\n",
        "from tensorflow.keras.preprocessing.image import ImageDataGenerator\n",
        "from tensorflow.keras.callbacks import ModelCheckpoint\n"
      ]
    },
    {
      "cell_type": "code",
      "execution_count": null,
      "metadata": {
        "colab": {
          "base_uri": "https://localhost:8080/"
        },
        "id": "EpbChvIbTdBk",
        "outputId": "6e833e20-5742-42b7-dde5-d6caecb846e9"
      },
      "outputs": [
        {
          "output_type": "stream",
          "name": "stdout",
          "text": [
            "Found 69600 images belonging to 29 classes.\n",
            "Found 17400 images belonging to 29 classes.\n"
          ]
        }
      ],
      "source": [
        "# Image data preprocessing and augmentation\n",
        "train_datagen = ImageDataGenerator(\n",
        "    rescale=1./255,  # Normalize pixel values to [0,1]\n",
        "    rotation_range=20,\n",
        "    width_shift_range=0.2,\n",
        "    height_shift_range=0.2,\n",
        "    zoom_range=0.2,\n",
        "    horizontal_flip=True,\n",
        "    validation_split=0.2  # Split dataset for validation\n",
        ")\n",
        "\n",
        "test_datagen = ImageDataGenerator(rescale=1./255)  # No augmentation for test data\n",
        "\n",
        "# Load training and validation data\n",
        "train_data = train_datagen.flow_from_directory(\n",
        "    '/content/asl/asl_aslphabet/asl_alphabet_train/asl_alphabet_train',  # Path to training data\n",
        "    target_size=(64, 64),  # Resize images to 64x64\n",
        "    batch_size=32,  # Use a batch size of 32\n",
        "    class_mode='categorical',  # Since it's a classification task\n",
        "    subset='training'\n",
        ")\n",
        "\n",
        "val_data = train_datagen.flow_from_directory(\n",
        "    '/content/asl/asl_aslphabet/asl_alphabet_train/asl_alphabet_train',  # Path to training data\n",
        "    target_size=(64, 64),\n",
        "    batch_size=32,\n",
        "    class_mode='categorical',\n",
        "    subset='validation'\n",
        ")\n"
      ]
    },
    {
      "cell_type": "code",
      "execution_count": null,
      "metadata": {
        "colab": {
          "base_uri": "https://localhost:8080/"
        },
        "id": "UD_8T-9JUHie",
        "outputId": "3e40f155-071d-46f5-8db3-6123279baa2d"
      },
      "outputs": [
        {
          "output_type": "stream",
          "name": "stdout",
          "text": [
            "Model: \"sequential\"\n",
            "_________________________________________________________________\n",
            " Layer (type)                Output Shape              Param #   \n",
            "=================================================================\n",
            " conv2d (Conv2D)             (None, 62, 62, 32)        896       \n",
            "                                                                 \n",
            " max_pooling2d (MaxPooling2  (None, 31, 31, 32)        0         \n",
            " D)                                                              \n",
            "                                                                 \n",
            " conv2d_1 (Conv2D)           (None, 29, 29, 64)        18496     \n",
            "                                                                 \n",
            " max_pooling2d_1 (MaxPoolin  (None, 14, 14, 64)        0         \n",
            " g2D)                                                            \n",
            "                                                                 \n",
            " conv2d_2 (Conv2D)           (None, 12, 12, 128)       73856     \n",
            "                                                                 \n",
            " max_pooling2d_2 (MaxPoolin  (None, 6, 6, 128)         0         \n",
            " g2D)                                                            \n",
            "                                                                 \n",
            " flatten (Flatten)           (None, 4608)              0         \n",
            "                                                                 \n",
            " dense (Dense)               (None, 128)               589952    \n",
            "                                                                 \n",
            " dropout (Dropout)           (None, 128)               0         \n",
            "                                                                 \n",
            " dense_1 (Dense)             (None, 29)                3741      \n",
            "                                                                 \n",
            "=================================================================\n",
            "Total params: 686941 (2.62 MB)\n",
            "Trainable params: 686941 (2.62 MB)\n",
            "Non-trainable params: 0 (0.00 Byte)\n",
            "_________________________________________________________________\n"
          ]
        }
      ],
      "source": [
        "# Update the CNN model to have 29 output neurons\n",
        "model = Sequential([\n",
        "    Conv2D(32, (3, 3), activation='relu', input_shape=(64, 64, 3)),\n",
        "    MaxPooling2D((2, 2)),\n",
        "    Conv2D(64, (3, 3), activation='relu'),\n",
        "    MaxPooling2D((2, 2)),\n",
        "    Conv2D(128, (3, 3), activation='relu'),\n",
        "    MaxPooling2D((2, 2)),\n",
        "    Flatten(),\n",
        "    Dense(128, activation='relu'),\n",
        "    Dropout(0.5),\n",
        "    Dense(29, activation='softmax')  # Change the number of classes here (29)\n",
        "])\n",
        "\n",
        "# Compile the model\n",
        "model.compile(optimizer='adam', loss='categorical_crossentropy', metrics=['accuracy'])\n",
        "\n",
        "model.summary()  # Check the model architecture\n"
      ]
    },
    {
      "cell_type": "code",
      "execution_count": null,
      "metadata": {
        "colab": {
          "background_save": true,
          "base_uri": "https://localhost:8080/"
        },
        "id": "V6q9v8h3ULNr",
        "outputId": "487acea0-f3e0-438a-c563-2c9c6b45578d"
      },
      "outputs": [
        {
          "output_type": "stream",
          "name": "stdout",
          "text": [
            "Epoch 1/5\n",
            "  82/2175 [>.............................] - ETA: 7:47 - loss: 3.3724 - accuracy: 0.0396"
          ]
        }
      ],
      "source": [
        "# Train the model\n",
        "history = model.fit(\n",
        "    train_data,\n",
        "    validation_data=val_data,\n",
        "    epochs=5,  # Number of epochs\n",
        "    verbose=1\n",
        ")\n"
      ]
    }
  ],
  "metadata": {
    "colab": {
      "provenance": [],
      "gpuType": "V28",
      "authorship_tag": "ABX9TyMzFhbgbra6usbU/cb/p9um",
      "include_colab_link": true
    },
    "kernelspec": {
      "display_name": "Python 3",
      "name": "python3"
    },
    "language_info": {
      "name": "python"
    },
    "accelerator": "TPU"
  },
  "nbformat": 4,
  "nbformat_minor": 0
}